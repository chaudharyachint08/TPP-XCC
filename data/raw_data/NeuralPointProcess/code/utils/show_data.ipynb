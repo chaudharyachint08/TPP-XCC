{
 "cells": [
  {
   "cell_type": "code",
   "execution_count": 5,
   "metadata": {
    "collapsed": false
   },
   "outputs": [
    {
     "name": "stdout",
     "output_type": "stream",
     "text": [
      "2 17517 0.100329333601\n",
      "35 7622 0.0436553165898\n",
      "6 7333 0.0420000572754\n",
      "4 6925 0.0396632205962\n",
      "3 5495 0.0314728371374\n",
      "19 4941 0.0282997794897\n",
      "152 4494 0.0257395687162\n",
      "13 4156 0.0238036598986\n",
      "1 3818 0.0218677510811\n",
      "7 3792 0.0217188350182\n"
     ]
    }
   ],
   "source": [
    "import matplotlib.pyplot as plt\n",
    "from collections import Counter\n",
    "import numpy as np\n",
    "\n",
    "data_root = '../../data/'\n",
    "sub_folder = 'real'\n",
    "\n",
    "data_name = 'ali'\n",
    "\n",
    "event_file = '%s/%s/%s/event.txt' % (data_root, sub_folder, data_name)\n",
    "time_file = '%s/%s/%s/time.txt' % (data_root, sub_folder, data_name)\n",
    "\n",
    "event_cnt = Counter()\n",
    "with open(event_file, 'r') as f:\n",
    "    for line in f:\n",
    "        line = line.strip().split(' ')\n",
    "        for e in line:\n",
    "            event_cnt[e] += 1\n",
    "            \n",
    "most_common = event_cnt.most_common()\n",
    "for i in range(10):\n",
    "    print most_common[i][0], most_common[i][1], float(most_common[i][1]) / sum(event_cnt.values())\n",
    "\n",
    "d_list = []\n",
    "with open(time_file, 'r') as f:\n",
    "    for line in f:\n",
    "        line = line.strip().split(' ')\n",
    "        for i in range(len(line) - 1):\n",
    "            d = float(line[i + 1]) - float(line[i])\n",
    "            d_list.append(d)"
   ]
  },
  {
   "cell_type": "code",
   "execution_count": 6,
   "metadata": {
    "collapsed": true
   },
   "outputs": [],
   "source": [
    "d = np.array(d_list)                \n",
    "plt.hist(d, bins=100)\n",
    "plt.show()"
   ]
  },
  {
   "cell_type": "code",
   "execution_count": 9,
   "metadata": {
    "collapsed": true
   },
   "outputs": [],
   "source": [
    "d_list.sort()\n",
    "d = np.array(d_list)\n",
    "plt.hist(d[:100000], bins=100)\n",
    "plt.show()"
   ]
  }
 ],
 "metadata": {
  "kernelspec": {
   "display_name": "Python 2",
   "language": "python",
   "name": "python2"
  },
  "language_info": {
   "codemirror_mode": {
    "name": "ipython",
    "version": 2
   },
   "file_extension": ".py",
   "mimetype": "text/x-python",
   "name": "python",
   "nbconvert_exporter": "python",
   "pygments_lexer": "ipython2",
   "version": "2.7.6"
  }
 },
 "nbformat": 4,
 "nbformat_minor": 0
}
