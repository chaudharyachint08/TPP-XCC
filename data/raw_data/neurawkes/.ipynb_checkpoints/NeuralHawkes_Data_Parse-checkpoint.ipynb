{
 "cells": [
  {
   "cell_type": "code",
   "execution_count": 1,
   "id": "557a054b",
   "metadata": {},
   "outputs": [
    {
     "name": "stdout",
     "output_type": "stream",
     "text": [
      "E:\\TPP-XCC\\data\\raw_data\\neurawkes\\data\n"
     ]
    }
   ],
   "source": [
    "cd ./data"
   ]
  },
  {
   "cell_type": "code",
   "execution_count": null,
   "id": "25870ca6",
   "metadata": {},
   "outputs": [],
   "source": []
  },
  {
   "cell_type": "code",
   "execution_count": 2,
   "id": "eaf9413d",
   "metadata": {},
   "outputs": [],
   "source": [
    "# dataset = {\n",
    "#     \"sequences\": [\n",
    "#         {\"arrival_times\": [0.2, 4.5, 9.1], \"marks\": [1, 0, 4], \"t_start\": 0.0, \"t_end\": 10.0},\n",
    "#         {\"arrival_times\": [2.3, 3.3, 5.5, 8.15], \"marks\": [4, 3, 2, 2], \"t_start\": 0.0, \"t_end\": 10.0},\n",
    "#     ],\n",
    "#     \"num_marks\": 5,\n",
    "# }"
   ]
  },
  {
   "cell_type": "code",
   "execution_count": null,
   "id": "0f2d56e8",
   "metadata": {},
   "outputs": [],
   "source": []
  },
  {
   "cell_type": "code",
   "execution_count": 3,
   "id": "cb938126",
   "metadata": {},
   "outputs": [],
   "source": [
    "import os, pickle\n",
    "\n",
    "import numpy as np\n",
    "\n",
    "import matplotlib.pyplot as plt\n",
    "import seaborn as sns\n",
    "\n",
    "%matplotlib inline"
   ]
  },
  {
   "cell_type": "code",
   "execution_count": null,
   "id": "07382c2c",
   "metadata": {},
   "outputs": [],
   "source": []
  },
  {
   "cell_type": "code",
   "execution_count": 4,
   "id": "16714233",
   "metadata": {},
   "outputs": [],
   "source": [
    "def process_rmtpp_github_data(name, plot=True):\n",
    "    global dataset, marks\n",
    "    named_chunks = ['train', 'dev','test', 'test1']\n",
    "\n",
    "    marks = set()    \n",
    "    min_time, max_time = +1*np.inf, -1*np.inf\n",
    "    min_times, max_times, diff_times, seq_len = [], [], [], []\n",
    "    dataset = {}\n",
    "    dataset['sequences'] = []\n",
    "    \n",
    "    named_chunks = ['train', 'dev','test', 'test1']\n",
    "\n",
    "    for div in named_chunks:\n",
    "        data_div = pickle.load(open(os.path.join(name, f'{div}.pkl'),'rb'),\n",
    "                                fix_imports=True, encoding=\"latin1\", errors=\"strict\")\n",
    "        # print(data_div['dim_process'])\n",
    "        for seq in data_div[div]:\n",
    "            seq_info = {\n",
    "                'arrival_times' : [entry['time_since_start'] for entry in seq],\n",
    "                'marks'         : [entry['type_event']       for entry in seq]\n",
    "                }\n",
    "            e_l = seq_info['marks']\n",
    "            dataset['sequences'].append(seq_info)\n",
    "            marks.update(set(e_l))\n",
    "            min_time_seq, max_time_seq = min(seq_info['arrival_times']), max(seq_info['arrival_times'])\n",
    "            min_time, max_time = min(min_time, min_time_seq), max(max_time, max_time_seq)\n",
    "            min_times.append(min_time_seq); max_times.append(max_time_seq); diff_times.append(max_time_seq-min_time_seq)\n",
    "            seq_len.append(len(e_l))\n",
    "\n",
    "    # Marks should begin from 0 upto to num_marks-1\n",
    "    marks_map = {e:ix for ix,e in enumerate(sorted(marks))}\n",
    "    new_sequences, sequences = [], dataset['sequences']\n",
    "    for seq in sequences:\n",
    "        try:\n",
    "            seq['marks'] = [marks_map[x] for x in seq['marks']]\n",
    "        except Exception as exec:\n",
    "            print(seq)\n",
    "            print(marks_map)\n",
    "            raise Exception(str(exec))\n",
    "        seq['t_start'], seq['t_end'] = 0.0, int(np.ceil(max_time-min_time))\n",
    "        new_sequences.append( seq )\n",
    "    dataset['sequences'], dataset['num_marks'] = new_sequences, len(marks_map)\n",
    "\n",
    "    diff_times, seq_len = np.array(diff_times), np.array(seq_len)\n",
    "\n",
    "    print(f'Number of Sequences are {len(new_sequences)}')\n",
    "    print(f'Number of Marks are {len(marks_map)}, {len(marks)}')\n",
    "    if plot:        \n",
    "        sns.histplot(diff_times, kde=True)\n",
    "        plt.title('End-Start time distribution')\n",
    "        plt.show()\n",
    "    print(f'Start & End times are 0, {seq[\"t_end\"]}')\n",
    "    print(f'Average time diff {diff_times.mean():0.4}±{diff_times.std():0.4}')\n",
    "    if plot:\n",
    "        sns.histplot(seq_len, kde=True)\n",
    "        plt.title('Seq length distribution')\n",
    "        plt.show()\n",
    "    print(f'Min & Max Sequence Length are {seq_len.min()}, {seq_len.max()}')\n",
    "    print(f'Sequence Length {seq_len.mean():0.4}±{seq_len.std():0.4}')\n",
    "    \n",
    "    return dataset"
   ]
  },
  {
   "cell_type": "code",
   "execution_count": 5,
   "id": "7fed2169",
   "metadata": {},
   "outputs": [
    {
     "name": "stdout",
     "output_type": "stream",
     "text": [
      "Number of Sequences are 29000\n",
      "Number of Marks are 3, 3\n"
     ]
    },
    {
     "data": {
      "image/png": "[encoded data removed]",
      "text/plain": [
       "<Figure size 432x288 with 1 Axes>"
      ]
     },
     "metadata": {
      "needs_background": "light"
     },
     "output_type": "display_data"
    },
    {
     "name": "stdout",
     "output_type": "stream",
     "text": [
      "Start & End times are 0, 604797\n",
      "Average time diff 2.799e+05±1.953e+05\n"
     ]
    },
    {
     "data": {
      "image/png": "[encoded data removed]",
      "text/plain": [
       "<Figure size 432x288 with 1 Axes>"
      ]
     },
     "metadata": {
      "needs_background": "light"
     },
     "output_type": "display_data"
    },
    {
     "name": "stdout",
     "output_type": "stream",
     "text": [
      "Min & Max Sequence Length are 50, 264\n",
      "Sequence Length 108.8±54.51\n"
     ]
    }
   ],
   "source": [
    "_ = process_rmtpp_github_data(name='retweet')"
   ]
  },
  {
   "cell_type": "code",
   "execution_count": 6,
   "id": "8bd2c315",
   "metadata": {},
   "outputs": [
    {
     "name": "stdout",
     "output_type": "stream",
     "text": [
      "Number of Sequences are 230000\n",
      "Number of Marks are 4947, 4947\n",
      "Start & End times are 0, 468817\n",
      "Average time diff 155.1±1.321e+03\n",
      "Min & Max Sequence Length are 1, 31\n",
      "Sequence Length 2.923±3.764\n"
     ]
    },
    {
     "data": {
      "text/plain": [
       "(0, 4996, 4947)"
      ]
     },
     "execution_count": 6,
     "metadata": {},
     "output_type": "execute_result"
    }
   ],
   "source": [
    "_ = process_rmtpp_github_data(name='memetrack', plot=False)\n",
    "min(marks), max(marks), len(marks)"
   ]
  },
  {
   "cell_type": "code",
   "execution_count": null,
   "id": "9787e9ff",
   "metadata": {},
   "outputs": [],
   "source": []
  }
 ],
 "metadata": {
  "kernelspec": {
   "display_name": "Python 3 (ipykernel)",
   "language": "python",
   "name": "python3"
  },
  "language_info": {
   "codemirror_mode": {
    "name": "ipython",
    "version": 3
   },
   "file_extension": ".py",
   "mimetype": "text/x-python",
   "name": "python",
   "nbconvert_exporter": "python",
   "pygments_lexer": "ipython3",
   "version": "3.8.12"
  }
 },
 "nbformat": 4,
 "nbformat_minor": 5
}
